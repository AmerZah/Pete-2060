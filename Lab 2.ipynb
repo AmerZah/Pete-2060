{
 "cells": [
  {
   "cell_type": "code",
   "execution_count": 10,
   "metadata": {},
   "outputs": [
    {
     "name": "stdout",
     "output_type": "stream",
     "text": [
      "Amer ALzahrani\n",
      "9C street\n",
      "Dammam, SA\n",
      "Amer ALzahrani\r",
      "9C Street\r",
      "Dammam, SA\n"
     ]
    }
   ],
   "source": [
    "## This is comments are written\n",
    "\n",
    "print('Amer ALzahrani')   ## or like this \n",
    "print('9C street')\n",
    "print('Dammam, SA')\n",
    "#\n",
    "print('Amer ALzahrani\\r9C Street\\rDammam, SA')"
   ]
  },
  {
   "cell_type": "code",
   "execution_count": 1,
   "metadata": {},
   "outputs": [
    {
     "name": "stdout",
     "output_type": "stream",
     "text": [
      "Hello amer !\n"
     ]
    }
   ],
   "source": [
    "# Exercise 2\n",
    "name = input('User Name:')\n",
    "print('Hello', name, '!')"
   ]
  },
  {
   "cell_type": "code",
   "execution_count": 8,
   "metadata": {},
   "outputs": [
    {
     "name": "stdout",
     "output_type": "stream",
     "text": [
      "Area 121 M^2\n"
     ]
    }
   ],
   "source": [
    "# Exercise 3\n",
    "\n",
    "L = int(input('Length in meters'))\n",
    "W = int(input('Width in meters'))\n",
    "print('Area',L*W,'M^2')"
   ]
  },
  {
   "cell_type": "code",
   "execution_count": 14,
   "metadata": {},
   "outputs": [
    {
     "name": "stdout",
     "output_type": "stream",
     "text": [
      "4.0625\n"
     ]
    }
   ],
   "source": [
    "# Exercise 4\n",
    "\n",
    "L = float(input('Length in feet'))\n",
    "W = float(input('width in feet'))\n",
    "print((L*W)/208)"
   ]
  },
  {
   "cell_type": "code",
   "execution_count": 15,
   "metadata": {},
   "outputs": [],
   "source": [
    "def area(L,W):\n",
    "    area = L * W\n",
    "    return area"
   ]
  },
  {
   "cell_type": "code",
   "execution_count": 16,
   "metadata": {},
   "outputs": [
    {
     "data": {
      "text/plain": [
       "15"
      ]
     },
     "execution_count": 16,
     "metadata": {},
     "output_type": "execute_result"
    }
   ],
   "source": [
    "area(3,5)"
   ]
  },
  {
   "cell_type": "code",
   "execution_count": 10,
   "metadata": {},
   "outputs": [
    {
     "name": "stdout",
     "output_type": "stream",
     "text": [
      "this software will create a sorted list of integers\n",
      "Please enter your postive intergers one at a time\n",
      "Entera value of 0 to exit program and display the list\n",
      "1\n",
      "6\n"
     ]
    },
    {
     "ename": "IndexError",
     "evalue": "list index out of range",
     "output_type": "error",
     "traceback": [
      "\u001b[1;31m---------------------------------------------------------------------------\u001b[0m",
      "\u001b[1;31mIndexError\u001b[0m                                Traceback (most recent call last)",
      "\u001b[1;32m<ipython-input-10-9e2535cb903b>\u001b[0m in \u001b[0;36m<module>\u001b[1;34m()\u001b[0m\n\u001b[0;32m     17\u001b[0m \u001b[0mmyList\u001b[0m\u001b[1;33m.\u001b[0m\u001b[0mremove\u001b[0m\u001b[1;33m(\u001b[0m\u001b[1;36m0\u001b[0m\u001b[1;33m)\u001b[0m\u001b[1;33m\u001b[0m\u001b[0m\n\u001b[0;32m     18\u001b[0m \u001b[1;32mfor\u001b[0m \u001b[0mnum\u001b[0m \u001b[1;32min\u001b[0m \u001b[0mmyList\u001b[0m\u001b[1;33m:\u001b[0m\u001b[1;33m\u001b[0m\u001b[0m\n\u001b[1;32m---> 19\u001b[1;33m     \u001b[0mprint\u001b[0m\u001b[1;33m(\u001b[0m\u001b[0mmyList\u001b[0m\u001b[1;33m[\u001b[0m\u001b[0mnum\u001b[0m\u001b[1;33m-\u001b[0m\u001b[1;36m1\u001b[0m\u001b[1;33m]\u001b[0m\u001b[1;33m)\u001b[0m\u001b[1;33m\u001b[0m\u001b[0m\n\u001b[0m",
      "\u001b[1;31mIndexError\u001b[0m: list index out of range"
     ]
    }
   ],
   "source": [
    "# Exercise\n",
    "\n",
    "print('this software will create a sorted list of integers')\n",
    "print('Please enter your postive intergers one at a time')\n",
    "print('Entera value of 0 to exit program and display the list')\n",
    "\n",
    "myList = []\n",
    "i = 1\n",
    "\n",
    "while i > 0:\n",
    "    i = int(input('input an integer or 0 to quit'))\n",
    "    myList.append(i)\n",
    "    \n",
    "    \n",
    "# myList = sorted(myList)\n",
    "myList.sort()\n",
    "myList.remove(0)\n",
    "for num in myList:\n",
    "    print(myList[num-1])"
   ]
  },
  {
   "cell_type": "code",
   "execution_count": null,
   "metadata": {},
   "outputs": [],
   "source": []
  }
 ],
 "metadata": {
  "kernelspec": {
   "display_name": "Python 3",
   "language": "python",
   "name": "python3"
  },
  "language_info": {
   "codemirror_mode": {
    "name": "ipython",
    "version": 3
   },
   "file_extension": ".py",
   "mimetype": "text/x-python",
   "name": "python",
   "nbconvert_exporter": "python",
   "pygments_lexer": "ipython3",
   "version": "3.6.3"
  }
 },
 "nbformat": 4,
 "nbformat_minor": 2
}
